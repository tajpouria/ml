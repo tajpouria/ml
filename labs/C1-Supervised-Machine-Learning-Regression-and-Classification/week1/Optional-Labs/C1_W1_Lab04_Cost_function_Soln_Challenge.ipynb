{
 "cells": [
  {
   "cell_type": "code",
   "execution_count": 6,
   "metadata": {},
   "outputs": [],
   "source": [
    "import numpy as np\n",
    "# for interactive plots\n",
    "%matplotlib widget\n",
    "import matplotlib.pyplot as plt\n",
    "from lab_utils_uni import plt_intuition, plt_stationary, plt_update_onclick, soup_bowl"
   ]
  },
  {
   "cell_type": "code",
   "execution_count": 7,
   "id": "693f98c5",
   "metadata": {},
   "outputs": [],
   "source": [
    "plt.style.use(\"./deeplearning.mplstyle\")"
   ]
  },
  {
   "cell_type": "code",
   "execution_count": 8,
   "id": "ad3e432f",
   "metadata": {},
   "outputs": [],
   "source": [
    "x_train = np.array([1.0, 2.0, 3.0, 4.0, 5.0, 6.0, 7.0, 8.0, 9.0, 10.0])\n",
    "y_train = np.array([2.0, 4.0, 6.0, 8.0, 10.0, 12.0, 14.0, 16.0, 18.0, 20.0])\n"
   ]
  },
  {
   "attachments": {},
   "cell_type": "markdown",
   "id": "656c091b",
   "metadata": {},
   "source": [
    "$$J(w, b) = \\frac{1}{2m} \\sum_{i=1}^{m} (y_i - \\hat{y_i})^2$$"
   ]
  },
  {
   "cell_type": "code",
   "execution_count": 9,
   "id": "167c615e",
   "metadata": {},
   "outputs": [],
   "source": [
    "def compute_cost(x, y, w, b):\n",
    "    \"\"\"\n",
    "    Computes the cost function for a given set of parameters\n",
    "    \"\"\"\n",
    "    m = x.shape[0]\n",
    "\n",
    "    cost_sum = 0\n",
    "    for i in range(m):\n",
    "        f_wb = w * x[i] + b\n",
    "        cost_sum += (f_wb - y[i]) ** 2\n",
    "\n",
    "    total_cost = cost_sum / (2 * m)\n",
    "\n",
    "    return total_cost\n"
   ]
  },
  {
   "cell_type": "code",
   "execution_count": null,
   "id": "bc289331",
   "metadata": {},
   "outputs": [],
   "source": [
    "soup_bowl()"
   ]
  }
 ],
 "metadata": {
  "kernelspec": {
   "display_name": "Python 3",
   "language": "python",
   "name": "python3"
  },
  "language_info": {
   "codemirror_mode": {
    "name": "ipython",
    "version": 3
   },
   "file_extension": ".py",
   "mimetype": "text/x-python",
   "name": "python",
   "nbconvert_exporter": "python",
   "pygments_lexer": "ipython3",
   "version": "3.11.2"
  },
  "toc-autonumbering": false
 },
 "nbformat": 4,
 "nbformat_minor": 5
}
